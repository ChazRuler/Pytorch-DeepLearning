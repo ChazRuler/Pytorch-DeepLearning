{
 "cells": [
  {
   "cell_type": "markdown",
   "metadata": {},
   "source": [
    "# Pytorch多分类实战（数据为sklearn的红酒）"
   ]
  },
  {
   "cell_type": "code",
   "execution_count": 49,
   "metadata": {
    "scrolled": true
   },
   "outputs": [
    {
     "data": {
      "text/plain": [
       "'1.5.0'"
      ]
     },
     "execution_count": 49,
     "metadata": {},
     "output_type": "execute_result"
    }
   ],
   "source": [
    "import torch\n",
    "import torch.nn as nn\n",
    "import torch.nn.functional as F\n",
    "from torch.utils.data import Dataset, DataLoader\n",
    "import matplotlib.pyplot as plt\n",
    "import numpy as np\n",
    "#Variable类已经被禁用，现在tensor能够追踪\n",
    "#from torch.autograd import Variable\n",
    "torch.__version__"
   ]
  },
  {
   "cell_type": "markdown",
   "metadata": {},
   "source": [
    "# softmax分类实例\n",
    "## 数据集\n",
    "由sklean加载的wine数据集  \n",
    "*训练集：133个样本，3个类别  \n",
    "*测试集：45个样本，3个类别"
   ]
  },
  {
   "cell_type": "code",
   "execution_count": 55,
   "metadata": {},
   "outputs": [],
   "source": [
    "#加载数据\n",
    "wine_train = np.load(\"./data_wine.npy\")\n",
    "wine_test = np.load(\"./data_wine_test.npy\")\n",
    "#归一化\n",
    "n,l=wine_train.shape\n",
    "for j in range(l-1):\n",
    "    meanVal=np.mean(wine_train[:,j])\n",
    "    stdVal=np.std(wine_train[:,j])\n",
    "    wine_train[:,j]=(wine_train[:,j]-meanVal)/stdVal\n",
    "#将训练数据和训练标签分开\n",
    "wine_traindata = wine_train[:,0:13]\n",
    "wine_trainlabel = wine_train[:,-1]\n",
    "#将numpy转化为tensor张量\n",
    "wine_traindata = torch.from_numpy(wine_traindata)\n",
    "wine_trainlabel = torch.from_numpy(wine_trainlabel)\n",
    "#梯度只能计算浮点张量，所以类型都要转化为float \n",
    "wine_traindata = wine_traindata.float()\n",
    "wine_trainlabel = wine_trainlabel.long()\n",
    "#对测试集采取相同操作方式\n",
    "n,l=wine_test.shape\n",
    "for j in range(l-1):\n",
    "    meanVal=np.mean(wine_test[:,j])\n",
    "    stdVal=np.std(wine_test[:,j])\n",
    "    wine_test[:,j]=(wine_test[:,j]-meanVal)/stdVal\n",
    "wine_testdata = wine_test[:,0:13]\n",
    "wine_testlabel = wine_test[:,-1]\n",
    "\n",
    "wine_testdata = torch.from_numpy(wine_testdata)\n",
    "wine_testlabel = torch.from_numpy(wine_testlabel)\n",
    "    \n",
    "wine_testdata = wine_testdata.float()\n",
    "wine_testlabel = wine_testlabel.long()"
   ]
  },
  {
   "cell_type": "markdown",
   "metadata": {},
   "source": [
    "## 神经网络\n",
    "构建两层神经网络，只有一层隐藏层，激活函数采用relu"
   ]
  },
  {
   "cell_type": "code",
   "execution_count": 56,
   "metadata": {},
   "outputs": [
    {
     "name": "stdout",
     "output_type": "stream",
     "text": [
      "Net(\n",
      "  (fc1): Linear(in_features=13, out_features=7, bias=True)\n",
      "  (fc2): Linear(in_features=7, out_features=3, bias=True)\n",
      ")\n"
     ]
    }
   ],
   "source": [
    "#构建神经网络\n",
    "class Net(nn.Module):#继承父类\n",
    "    def __init__(self):\n",
    "        super(Net, self).__init__()\n",
    "        #构建feed forward网络\n",
    "        self.fc1 = nn.Linear(13, 7)\n",
    "        self.fc2 = nn.Linear(7, 3)\n",
    "        \n",
    "    def forward(self, x):\n",
    "        #x = self.fc1(x)\n",
    "        x = F.relu(self.fc1(x))\n",
    "        x = self.fc2(x)\n",
    "        out = F.softmax(x, dim=1)\n",
    "        return out\n",
    "    \n",
    "net = Net()\n",
    "print(net)\n",
    "\n",
    "optimizer = torch.optim.SGD(net.parameters(),lr=0.02) #设置优化器参数,lr=0.002指的是学习率的大小\n",
    "criterion=nn.CrossEntropyLoss()"
   ]
  },
  {
   "cell_type": "markdown",
   "metadata": {},
   "source": [
    "总共训练1000次，这里没有分batch，一次训练使用全部数据"
   ]
  },
  {
   "cell_type": "code",
   "execution_count": 57,
   "metadata": {
    "scrolled": true
   },
   "outputs": [
    {
     "name": "stdout",
     "output_type": "stream",
     "text": [
      "Epoch:100,Loss:0.9888\n",
      "Epoch:200,Loss:0.9057\n",
      "Epoch:300,Loss:0.8463\n",
      "Epoch:400,Loss:0.8060\n",
      "Epoch:500,Loss:0.7752\n",
      "Epoch:600,Loss:0.7477\n",
      "Epoch:700,Loss:0.7223\n",
      "Epoch:800,Loss:0.6988\n",
      "Epoch:900,Loss:0.6771\n",
      "Epoch:1000,Loss:0.6569\n"
     ]
    }
   ],
   "source": [
    "#train\n",
    "epochs = 1000\n",
    "for i in range(epochs):\n",
    "    out = net(wine_traindata)\n",
    "    #loss\n",
    "    loss=criterion(out,wine_trainlabel)\n",
    "    optimizer.zero_grad()\n",
    "    loss.backward()\n",
    "    #update\n",
    "    optimizer.step()\n",
    "    if (i+1)%100 ==0 : # 这里我们每100次输出相关的信息\n",
    "        # 指定模型为计算模式\n",
    "        net.eval()\n",
    "        print(\"Epoch:{},Loss:{:.4f}\".format(i+1,loss.item()))"
   ]
  },
  {
   "cell_type": "markdown",
   "metadata": {},
   "source": [
    "使用测试集进行测试，得到准确率"
   ]
  },
  {
   "cell_type": "code",
   "execution_count": 58,
   "metadata": {},
   "outputs": [
    {
     "name": "stdout",
     "output_type": "stream",
     "text": [
      "tensor(0.9111)\n"
     ]
    }
   ],
   "source": [
    "test_out = net(wine_testdata)\n",
    "\n",
    "def test(pred,lab):\n",
    "    t=pred.max(-1)[1]==lab\n",
    "    return torch.mean(t.float())\n",
    "\n",
    "acc =  test(test_out, wine_testlabel)\n",
    "print(acc)"
   ]
  }
 ],
 "metadata": {
  "kernelspec": {
   "display_name": "Python pytorch",
   "language": "python",
   "name": "pytorch_envs"
  },
  "language_info": {
   "codemirror_mode": {
    "name": "ipython",
    "version": 3
   },
   "file_extension": ".py",
   "mimetype": "text/x-python",
   "name": "python",
   "nbconvert_exporter": "python",
   "pygments_lexer": "ipython3",
   "version": "3.7.7"
  }
 },
 "nbformat": 4,
 "nbformat_minor": 2
}
