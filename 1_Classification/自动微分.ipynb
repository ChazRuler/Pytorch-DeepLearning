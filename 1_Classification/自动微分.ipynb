{
 "cells": [
  {
   "cell_type": "code",
   "execution_count": 21,
   "metadata": {},
   "outputs": [
    {
     "name": "stdout",
     "output_type": "stream",
     "text": [
      "tensor([ 0.2394,  0.5996, -0.4761], requires_grad=True)\n",
      "tensor([ 0.4789,  1.1992, -0.9522], grad_fn=<MulBackward0>)\n",
      "tensor([0.2293, 1.4382, 0.9067], grad_fn=<MulBackward0>)\n",
      "None\n"
     ]
    }
   ],
   "source": [
    "import sklearn\n",
    "import torch\n",
    "import torch.nn as nn\n",
    "from torch.autograd import Variable\n",
    "import torch.nn.functional as F\n",
    "import numpy as np\n",
    "import matplotlib.pyplot as plt\n",
    "import torch.optim\n",
    "from sklearn import datasets\n",
    "\n",
    "x = torch.randn(3, requires_grad=True)\n",
    "print(x)\n",
    "y = x * 2\n",
    "print(y)\n",
    "\n",
    "z = y*y\n",
    "print(z)\n",
    "\n",
    "#backward要求根节点是个标量\n",
    "z.backward()\n",
    "#如果根节点是个张量，则需要使用雅可比\n",
    "v = torch.tensor([1, 1, 1], dtype=torch.float)\n",
    "z.backward(v)\n",
    "#一般微分都是到最后的叶子节点，中间的非叶子节点是不会有梯度的\n",
    "print(x.grad)"
   ]
  },
  {
   "cell_type": "code",
   "execution_count": null,
   "metadata": {},
   "outputs": [],
   "source": []
  }
 ],
 "metadata": {
  "kernelspec": {
   "display_name": "Python pytorch",
   "language": "python",
   "name": "pytorch_envs"
  },
  "language_info": {
   "codemirror_mode": {
    "name": "ipython",
    "version": 3
   },
   "file_extension": ".py",
   "mimetype": "text/x-python",
   "name": "python",
   "nbconvert_exporter": "python",
   "pygments_lexer": "ipython3",
   "version": "3.7.7"
  }
 },
 "nbformat": 4,
 "nbformat_minor": 2
}
